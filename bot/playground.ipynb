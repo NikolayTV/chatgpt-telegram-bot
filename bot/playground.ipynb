{
 "cells": [
  {
   "cell_type": "code",
   "execution_count": 27,
   "metadata": {},
   "outputs": [],
   "source": [
    "from openai import OpenAI"
   ]
  },
  {
   "cell_type": "code",
   "execution_count": 2,
   "metadata": {},
   "outputs": [
    {
     "name": "stdout",
     "output_type": "stream",
     "text": [
      "assistant_response Промокод для участников курса на скидку в 10% в онлайн магазине Руслана Масгутова: \"HERICIUMERINACEUS\". Не забудьте ввести его без пробела при заказе.\n"
     ]
    },
    {
     "data": {
      "text/plain": [
       "('Промокод для участников курса на скидку в 10% в онлайн магазине Руслана Масгутова: \"HERICIUMERINACEUS\". Не забудьте ввести его без пробела при заказе.',\n",
       " 10)"
      ]
     },
     "execution_count": 2,
     "metadata": {},
     "output_type": "execute_result"
    }
   ],
   "source": [
    "\n",
    "import time\n",
    "import openai\n",
    "from pprint import pprint\n",
    "import httpx\n",
    "\n",
    "client = openai.AsyncOpenAI()\n",
    "assistant_id=\"asst_9bem5sZbC290WGNfg1aq4lzw\"\n",
    "\n",
    "# IF FIRST MESSAGE IN CHAT\n",
    "threads = {}\n",
    "chat_id = '123'\n",
    "query = 'промокод руслана масгтутова'\n",
    "\n",
    "if chat_id not in threads: thread = await client.beta.threads.create()\n",
    "else:                      thread = threads[chat_id]\n",
    "\n",
    "threads[chat_id] = thread\n",
    "message = await client.beta.threads.messages.create(thread_id=thread.id, role=\"user\", content=query)\n",
    "run = await client.beta.threads.runs.create(thread_id=thread.id, assistant_id=assistant_id)\n",
    "run = await client.beta.threads.runs.retrieve(thread_id=thread.id, run_id=run.id)\n",
    "# Wait for the run to complete\n",
    "while True:\n",
    "    run = await client.beta.threads.runs.retrieve(thread_id=thread.id, run_id=run.id)\n",
    "    if run.status == 'completed':\n",
    "        break\n",
    "    time.sleep(1)  # Sleep for a short period before checking again\n",
    "\n",
    "messages = await client.beta.threads.messages.list(thread_id=thread.id)\n",
    "assistant_response = messages.data[0].content[0].text.value\n",
    "print('assistant_response', assistant_response)\n",
    "assistant_response, 10"
   ]
  },
  {
   "cell_type": "code",
   "execution_count": 25,
   "metadata": {},
   "outputs": [
    {
     "data": {
      "text/plain": [
       "{'prompt_tokens': 3089, 'completion_tokens': 75, 'total_tokens': 3164}"
      ]
     },
     "execution_count": 25,
     "metadata": {},
     "output_type": "execute_result"
    }
   ],
   "source": [
    "run.usage"
   ]
  },
  {
   "cell_type": "code",
   "execution_count": 26,
   "metadata": {},
   "outputs": [
    {
     "data": {
      "text/plain": [
       "(75, 3089, 3164)"
      ]
     },
     "execution_count": 26,
     "metadata": {},
     "output_type": "execute_result"
    }
   ],
   "source": [
    "run.usage['completion_tokens'], run.usage['prompt_tokens'], run.usage['total_tokens'] \n"
   ]
  },
  {
   "cell_type": "code",
   "execution_count": 13,
   "metadata": {},
   "outputs": [
    {
     "data": {
      "text/plain": [
       "ChatCompletion(id='chatcmpl-8wn7uYZQkz18Bu8xla18lzrGKjfZ2', choices=[Choice(finish_reason='stop', index=0, message=ChatCompletionMessage(content=\"**Story: The Lost Kitten**\\n\\nOnce upon a time in a cozy little town, a curious kitten named Mittens wandered away from her home. Mittens had soft grey fur and big green eyes, and she loved to explore every nook and cranny she could find. But this time, Mittens had gone too far and couldn't find her way back.\\n\\nLost and scared, Mittens meowed for help. Luckily, a kind little girl named Lily heard her cries. Lily followed the sound and found Mittens hiding behind a bush. She gently scooped up the kitten and took her back home.\\n\\nMittens was so grateful to be safe again that she purred loudly, nuzzling against Lily's cheek. From that day on, Mittens and Lily became best friends. Mittens never wandered off on her own again, knowing that she had a loving home and a caring friend to watch over her.\\n\\n**Data:**\\n- Title: The Lost Kitten\\n- Main characters: Mittens (kitten), Lily (little girl)\\n- Setting: Cozy town\\n- Theme: Friendship, kindness, being lost and found\", role='assistant', function_call=None, tool_calls=None), logprobs=None)], created=1709022558, model='gpt-3.5-turbo-0125', object='chat.completion', system_fingerprint='fp_86156a94a0', usage=CompletionUsage(completion_tokens=231, prompt_tokens=54, total_tokens=285))"
      ]
     },
     "execution_count": 13,
     "metadata": {},
     "output_type": "execute_result"
    }
   ],
   "source": [
    "client = openai.OpenAI()\n",
    "formatted_history = [\n",
    "    {\"role\": \"system\", \"content\": \"You are a story writer, please write a 200 word children's story about the theme specified and then extract the relevant data to use as arguments to pass into the given function provided\" },\n",
    "    {'role': 'user', 'content': \"Please produce a story about the following\"}]\n",
    "config = {'model_name':'gpt-3.5-turbo'}\n",
    "\n",
    "response = client.chat.completions.create(\n",
    "                                    messages=formatted_history,\n",
    "                                    model='gpt-3.5-turbo',#config.model_name,\n",
    "                                )\n",
    "\n",
    "response"
   ]
  },
  {
   "cell_type": "code",
   "execution_count": 20,
   "metadata": {},
   "outputs": [
    {
     "data": {
      "text/plain": [
       "(231, 54, 285)"
      ]
     },
     "execution_count": 20,
     "metadata": {},
     "output_type": "execute_result"
    }
   ],
   "source": [
    "# response['usage']['prompt_tokens']"
   ]
  },
  {
   "cell_type": "code",
   "execution_count": null,
   "metadata": {},
   "outputs": [],
   "source": []
  },
  {
   "cell_type": "code",
   "execution_count": 22,
   "metadata": {},
   "outputs": [
    {
     "data": {
      "text/plain": [
       "Text(annotations=[], value='К сожалению, я не вижу загруженных файлов, чтобы ответить на ваш вопрос прямо сейчас. Если у вас есть файл или документ, содержащий информацию о промокоде Руслана Масгтутова, пожалуйста, загрузите его сюда, и я с удовольствием помогу вам найти нужную информацию.')"
      ]
     },
     "execution_count": 22,
     "metadata": {},
     "output_type": "execute_result"
    }
   ],
   "source": [
    "messages.data[0].content[0].text"
   ]
  },
  {
   "cell_type": "code",
   "execution_count": null,
   "metadata": {},
   "outputs": [],
   "source": [
    "# message = client.beta.threads.messages.retrieve(\n",
    "#   thread_id=thread.id,\n",
    "#   message_id=messages.data[0].id\n",
    "# )\n",
    "\n",
    "# message_content = messages.data[0].content[0].text\n",
    "# annotations = message_content.annotations\n",
    "# citations = []\n",
    "\n",
    "# # Iterate over the annotations and add footnotes\n",
    "# for index, annotation in enumerate(annotations):\n",
    "#     # Replace the text with a footnote\n",
    "#     message_content.value = message_content.value.replace(annotation.text, f' [{index}]')\n",
    "\n",
    "#     # Gather citations based on annotation attributes\n",
    "#     if (file_citation := getattr(annotation, 'file_citation', None)):\n",
    "#         cited_file = client.files.retrieve(file_citation.file_id)\n",
    "#         citations.append(f'[{index}] {file_citation.quote} from {cited_file.filename}')\n",
    "#     elif (file_path := getattr(annotation, 'file_path', None)):\n",
    "#         cited_file = client.files.retrieve(file_path.file_id)\n",
    "#         citations.append(f'[{index}] Click <here> to download {cited_file.filename}')\n",
    "#         # Note: File download functionality not implemented above for brevity\n",
    "\n",
    "# # Add footnotes to the end of the message before displaying to user\n",
    "# message_content.value += '\\n' + '\\n'.join(citations)"
   ]
  },
  {
   "cell_type": "code",
   "execution_count": 2,
   "metadata": {},
   "outputs": [],
   "source": [
    "import time\n",
    "sleeping_time = 0.1\n",
    "max_wait_time = 20\n",
    "assistant_response = 'Что-то сломалось у меня... Пожалуйста попробуйте позже'\n",
    "for i in range(int(max_wait_time//sleeping_time)):\n",
    "    time.sleep(0.1)  # Sleep for a short period before checking again\n"
   ]
  },
  {
   "cell_type": "code",
   "execution_count": null,
   "metadata": {},
   "outputs": [],
   "source": []
  },
  {
   "cell_type": "code",
   "execution_count": 9,
   "metadata": {},
   "outputs": [
    {
     "data": {
      "text/plain": [
       "False"
      ]
     },
     "execution_count": 9,
     "metadata": {},
     "output_type": "execute_result"
    }
   ],
   "source": [
    "from dotenv import load_dotenv\n",
    "load_dotenv(dotenv_path='.env')"
   ]
  },
  {
   "cell_type": "code",
   "execution_count": 10,
   "metadata": {},
   "outputs": [
    {
     "data": {
      "text/plain": [
       "(False,)"
      ]
     },
     "execution_count": 10,
     "metadata": {},
     "output_type": "execute_result"
    }
   ],
   "source": [
    "import os\n",
    "os.environ.get('ENABLE_TTS_GENERATION', 'true').lower() == 'true',"
   ]
  },
  {
   "cell_type": "code",
   "execution_count": 11,
   "metadata": {},
   "outputs": [],
   "source": [
    "if False:\n",
    "    print('a')"
   ]
  },
  {
   "cell_type": "code",
   "execution_count": 24,
   "metadata": {},
   "outputs": [
    {
     "name": "stdout",
     "output_type": "stream",
     "text": [
      "assistant_response Ahoy there! In the grand sea of knowledge, the number 42 is not just any ordinary number. It's the \"Answer to the Ultimate Question of Life, the Universe, and Everything,\" according to \"The Hitchhiker's Guide to the Galaxy\" by Douglas Adams. But be warned, matey, even with this grand answer, no one knows what the actual question is! So, whether ye be navigating through the stars or sailing the seven seas, remember, 42 is the treasure ye might not fully understand, but it sure adds a bit of mystery to our adventure! Arrr!\n"
     ]
    }
   ],
   "source": [
    "messages = await client.beta.threads.messages.list(thread_id=thread.id)\n",
    "assistant_response = messages.data[0].content[0].text.value\n",
    "print('assistant_response', assistant_response)\n"
   ]
  },
  {
   "cell_type": "code",
   "execution_count": 19,
   "metadata": {},
   "outputs": [
    {
     "name": "stdout",
     "output_type": "stream",
     "text": [
      "assistant_response: what is 42\n"
     ]
    }
   ],
   "source": [
    "from openai import OpenAI\n",
    "from pprint import pprint\n",
    "import httpx\n",
    "import asyncio\n",
    "import openai\n",
    "\n",
    "async def main():\n",
    "    async with httpx.AsyncClient() as http_client:\n",
    "        client = openai.AsyncOpenAI(http_client=http_client)\n",
    "        assistant_id = \"asst_NZqdsWwl0CRH46T1BxH1jY23\"\n",
    "        \n",
    "        chat_id = '123'\n",
    "        query = 'what is 42'\n",
    "        threads = {}\n",
    "\n",
    "        if chat_id not in threads:\n",
    "            thread = await client.beta.threads.create()\n",
    "        else:\n",
    "            thread = threads[chat_id]\n",
    "\n",
    "        threads[chat_id] = thread\n",
    "        message = await client.beta.threads.messages.create(thread_id=thread.id, role=\"user\", content=query)\n",
    "        run = await client.beta.threads.runs.create(thread_id=thread.id, assistant_id=assistant_id)\n",
    "        run = await client.beta.threads.runs.retrieve(thread_id=thread.id, run_id=run.id)\n",
    "        messages = await client.beta.threads.messages.list(thread_id=thread.id)\n",
    "        assistant_response = messages.data[0].content[0].text.value\n",
    "        print('assistant_response:', assistant_response)\n",
    "\n",
    "# \n",
    "await main()\n"
   ]
  },
  {
   "cell_type": "code",
   "execution_count": 9,
   "metadata": {},
   "outputs": [
    {
     "data": {
      "text/plain": [
       "SyncCursorPage[ThreadMessage](data=[ThreadMessage(id='msg_g39ipp9ByPF3jBhG9MFzbUke', assistant_id='asst_NZqdsWwl0CRH46T1BxH1jY23', content=[MessageContentText(text=Text(annotations=[], value='Ahoy! The number 42, in the vast sea of knowledge and the mysterious universe of literature, is famously known as \"the answer to the ultimate question of life, the universe, and everything\" according to \"The Hitchhiker\\'s Guide to the Galaxy\" by Douglas Adams. It\\'s a bit of a jest, matey, for the actual question was never clearly known, leading to many a philosophical and humorous debate among scholars and scallywags alike. So, whether ye be navigating the stars or the stormy seas, remember: when in doubt, the answer is always 42! Arrr!'), type='text')], created_at=1708816021, file_ids=[], metadata={}, object='thread.message', role='assistant', run_id='run_fYpMuwbulNIxddpYAOHXF9nb', thread_id='thread_NFQ6fjsJh7zzS5lf11PYlIQC'), ThreadMessage(id='msg_iB4I1R87UKfX2XLfS5Jaxcxw', assistant_id=None, content=[MessageContentText(text=Text(annotations=[], value='what is 42'), type='text')], created_at=1708816019, file_ids=[], metadata={}, object='thread.message', role='user', run_id=None, thread_id='thread_NFQ6fjsJh7zzS5lf11PYlIQC')], object='list', first_id='msg_g39ipp9ByPF3jBhG9MFzbUke', last_id='msg_iB4I1R87UKfX2XLfS5Jaxcxw', has_more=False)"
      ]
     },
     "execution_count": 9,
     "metadata": {},
     "output_type": "execute_result"
    }
   ],
   "source": [
    "run = client.beta.threads.runs.create(thread_id=thread.id, assistant_id=assistant_id)\n",
    "run = client.beta.threads.runs.retrieve(thread_id=thread.id, run_id=run.id)\n",
    "\n",
    "messages = client.beta.threads.messages.list(\n",
    "  thread_id=thread.id\n",
    ")\n",
    "messages"
   ]
  },
  {
   "cell_type": "code",
   "execution_count": 10,
   "metadata": {},
   "outputs": [
    {
     "data": {
      "text/plain": [
       "'Ahoy! The number 42, in the vast sea of knowledge and the mysterious universe of literature, is famously known as \"the answer to the ultimate question of life, the universe, and everything\" according to \"The Hitchhiker\\'s Guide to the Galaxy\" by Douglas Adams. It\\'s a bit of a jest, matey, for the actual question was never clearly known, leading to many a philosophical and humorous debate among scholars and scallywags alike. So, whether ye be navigating the stars or the stormy seas, remember: when in doubt, the answer is always 42! Arrr!'"
      ]
     },
     "execution_count": 10,
     "metadata": {},
     "output_type": "execute_result"
    }
   ],
   "source": [
    "messages.data[0].content[0].text.value"
   ]
  },
  {
   "cell_type": "code",
   "execution_count": 64,
   "metadata": {},
   "outputs": [
    {
     "name": "stdout",
     "output_type": "stream",
     "text": [
      "SyncCursorPage[AssistantFile](data=[], object='list', first_id=None, last_id=None, has_more=False)\n"
     ]
    }
   ],
   "source": [
    "from openai import OpenAI\n",
    "client = OpenAI()\n",
    "assistant_files = client.beta.assistants.files.list(\n",
    "  assistant_id=assistant_id\n",
    ")\n",
    "print(assistant_files)\n"
   ]
  },
  {
   "cell_type": "code",
   "execution_count": null,
   "metadata": {},
   "outputs": [],
   "source": []
  },
  {
   "cell_type": "code",
   "execution_count": 3,
   "metadata": {},
   "outputs": [
    {
     "name": "stdout",
     "output_type": "stream",
     "text": [
      "Thread(id='thread_dx9YgWP8RjDIUurdIrCBf240', created_at=1708809473, metadata={}, object='thread')\n"
     ]
    }
   ],
   "source": [
    "empty_thread = client.beta.threads.create()\n",
    "print(empty_thread)\n"
   ]
  },
  {
   "cell_type": "code",
   "execution_count": 10,
   "metadata": {},
   "outputs": [
    {
     "name": "stdout",
     "output_type": "stream",
     "text": [
      "Thread(id='thread_8lryhz5ueNgP095SBClQGAtz', created_at=1708643247, metadata={'modified': 'true', 'user': 'abc123'}, object='thread')\n"
     ]
    }
   ],
   "source": [
    "my_thread = client.beta.threads.retrieve(\"thread_8lryhz5ueNgP095SBClQGAtz\")\n",
    "print(my_thread)"
   ]
  },
  {
   "cell_type": "code",
   "execution_count": 7,
   "metadata": {},
   "outputs": [
    {
     "data": {
      "text/plain": [
       "'thread_8lryhz5ueNgP095SBClQGAtz'"
      ]
     },
     "execution_count": 7,
     "metadata": {},
     "output_type": "execute_result"
    }
   ],
   "source": [
    "my_thread.id"
   ]
  },
  {
   "cell_type": "code",
   "execution_count": 5,
   "metadata": {},
   "outputs": [
    {
     "name": "stdout",
     "output_type": "stream",
     "text": [
      "Thread(id='thread_8lryhz5ueNgP095SBClQGAtz', created_at=1708643247, metadata={'modified': 'true', 'user': 'abc123'}, object='thread')\n"
     ]
    }
   ],
   "source": [
    "my_updated_thread = client.beta.threads.update(\n",
    "  \"thread_8lryhz5ueNgP095SBClQGAtz\",\n",
    "  metadata={\n",
    "    \"modified\": \"true\",\n",
    "    \"user\": \"abc123\"\n",
    "  }\n",
    ")\n",
    "print(my_updated_thread)"
   ]
  },
  {
   "cell_type": "code",
   "execution_count": 9,
   "metadata": {},
   "outputs": [],
   "source": [
    "# response = client.beta.threads.delete(\"thread_abc123\")\n",
    "# print(response)"
   ]
  },
  {
   "cell_type": "code",
   "execution_count": 10,
   "metadata": {},
   "outputs": [
    {
     "name": "stdout",
     "output_type": "stream",
     "text": [
      "ThreadMessage(id='msg_dRxOtAC77WonjJZ26sQzQF6Z', assistant_id=None, content=[MessageContentText(text=Text(annotations=[], value='How does AI work? Explain it in simple terms.'), type='text')], created_at=1708643381, file_ids=[], metadata={}, object='thread.message', role='user', run_id=None, thread_id='thread_8lryhz5ueNgP095SBClQGAtz')\n"
     ]
    }
   ],
   "source": [
    "thread_message = client.beta.threads.messages.create(\n",
    "  \"thread_8lryhz5ueNgP095SBClQGAtz\",\n",
    "  role=\"user\",\n",
    "  content=\"How does AI work? Explain it in simple terms.\",\n",
    ")\n",
    "print(thread_message)"
   ]
  },
  {
   "cell_type": "code",
   "execution_count": 17,
   "metadata": {},
   "outputs": [
    {
     "name": "stdout",
     "output_type": "stream",
     "text": [
      "[ThreadMessage(id='msg_dRxOtAC77WonjJZ26sQzQF6Z', assistant_id=None, content=[MessageContentText(text=Text(annotations=[], value='How does AI work? Explain it in simple terms.'), type='text')], created_at=1708643381, file_ids=[], metadata={}, object='thread.message', role='user', run_id=None, thread_id='thread_8lryhz5ueNgP095SBClQGAtz')]\n"
     ]
    }
   ],
   "source": [
    "thread_messages = client.beta.threads.messages.list(\"thread_8lryhz5ueNgP095SBClQGAtz\")\n",
    "pprint(thread_messages.data)"
   ]
  },
  {
   "cell_type": "code",
   "execution_count": 18,
   "metadata": {},
   "outputs": [
    {
     "name": "stdout",
     "output_type": "stream",
     "text": [
      "ThreadMessage(id='msg_dRxOtAC77WonjJZ26sQzQF6Z', assistant_id=None, content=[MessageContentText(text=Text(annotations=[], value='How does AI work? Explain it in simple terms.'), type='text')], created_at=1708643381, file_ids=[], metadata={}, object='thread.message', role='user', run_id=None, thread_id='thread_8lryhz5ueNgP095SBClQGAtz')\n"
     ]
    }
   ],
   "source": [
    "message = client.beta.threads.messages.retrieve(\n",
    "  message_id=\"msg_dRxOtAC77WonjJZ26sQzQF6Z\",\n",
    "  thread_id=\"thread_8lryhz5ueNgP095SBClQGAtz\",\n",
    ")\n",
    "print(message)"
   ]
  },
  {
   "cell_type": "code",
   "execution_count": 20,
   "metadata": {},
   "outputs": [
    {
     "name": "stdout",
     "output_type": "stream",
     "text": [
      "ThreadMessage(id='msg_dRxOtAC77WonjJZ26sQzQF6Z', assistant_id=None, content=[MessageContentText(text=Text(annotations=[], value='How does AI work? Explain it in simple terms.'), type='text')], created_at=1708643381, file_ids=[], metadata={'modified': 'true', 'user': 'abc123'}, object='thread.message', role='user', run_id=None, thread_id='thread_8lryhz5ueNgP095SBClQGAtz')\n"
     ]
    }
   ],
   "source": [
    "message = client.beta.threads.messages.update(\n",
    "  message_id=\"msg_dRxOtAC77WonjJZ26sQzQF6Z\",\n",
    "  thread_id=\"thread_8lryhz5ueNgP095SBClQGAtz\",\n",
    "  metadata={\n",
    "    \"modified\": \"true\",\n",
    "    \"user\": \"abc123\",\n",
    "  },\n",
    ")\n",
    "print(message)"
   ]
  },
  {
   "cell_type": "markdown",
   "metadata": {},
   "source": [
    "# Runs"
   ]
  },
  {
   "cell_type": "code",
   "execution_count": 14,
   "metadata": {},
   "outputs": [
    {
     "data": {
      "text/plain": [
       "Thread(id='thread_8xd56ZBb0QsLhaE1WvhGnh2T', created_at=1708811023, metadata={}, object='thread')"
      ]
     },
     "execution_count": 14,
     "metadata": {},
     "output_type": "execute_result"
    }
   ],
   "source": [
    "query = 'olalalalala'\n",
    "thread = client.beta.threads.create(\n",
    "    messages=[{\"role\": \"user\",\"content\": query, # \"file_ids\": [file.id] \n",
    "}])\n",
    "thread"
   ]
  },
  {
   "cell_type": "code",
   "execution_count": 40,
   "metadata": {},
   "outputs": [
    {
     "data": {
      "text/plain": [
       "Run(id='run_HdRAi4TJzCj3pHbEbe3QGIUW', assistant_id='asst_NZqdsWwl0CRH46T1BxH1jY23', cancelled_at=None, completed_at=None, created_at=1708811876, expires_at=1708812476, failed_at=None, file_ids=[], instructions='Ты врач пират который помогает людям шутками с прибаутками', last_error=None, metadata={}, model='gpt-4-turbo-preview', object='thread.run', required_action=None, started_at=None, status='queued', thread_id='thread_8xd56ZBb0QsLhaE1WvhGnh2T', tools=[ToolAssistantToolsRetrieval(type='retrieval')], usage=None)"
      ]
     },
     "execution_count": 40,
     "metadata": {},
     "output_type": "execute_result"
    }
   ],
   "source": [
    "run = client.beta.threads.runs.create(\n",
    "  thread_id=thread.id,\n",
    "  assistant_id=assistant_id\n",
    ")\n",
    "run"
   ]
  },
  {
   "cell_type": "code",
   "execution_count": 41,
   "metadata": {},
   "outputs": [
    {
     "data": {
      "text/plain": [
       "Run(id='run_HdRAi4TJzCj3pHbEbe3QGIUW', assistant_id='asst_NZqdsWwl0CRH46T1BxH1jY23', cancelled_at=None, completed_at=1708811879, created_at=1708811876, expires_at=None, failed_at=None, file_ids=[], instructions='Ты врач пират который помогает людям шутками с прибаутками', last_error=None, metadata={}, model='gpt-4-turbo-preview', object='thread.run', required_action=None, started_at=1708811876, status='completed', thread_id='thread_8xd56ZBb0QsLhaE1WvhGnh2T', tools=[ToolAssistantToolsRetrieval(type='retrieval')], usage={'prompt_tokens': 639, 'completion_tokens': 66, 'total_tokens': 705})"
      ]
     },
     "execution_count": 41,
     "metadata": {},
     "output_type": "execute_result"
    }
   ],
   "source": [
    "run = client.beta.threads.runs.retrieve(\n",
    "  thread_id=thread.id,\n",
    "  run_id=run.id\n",
    ")\n",
    "run"
   ]
  },
  {
   "cell_type": "code",
   "execution_count": 42,
   "metadata": {},
   "outputs": [
    {
     "data": {
      "text/plain": [
       "SyncCursorPage[ThreadMessage](data=[ThreadMessage(id='msg_dxT1MEufMgekKrwszmQ0bYcX', assistant_id='asst_NZqdsWwl0CRH46T1BxH1jY23', content=[MessageContentText(text=Text(annotations=[], value=\"Ahoy! It seems I've hoisted the Jolly Roger without a map to your treasure. Could ye lend a hand by tellin' me what yer seekin'? Whether it's advice, a story from the seven seas, or help navigatin' through choppy waters, I'm here to assist ye!\"), type='text')], created_at=1708811877, file_ids=[], metadata={}, object='thread.message', role='assistant', run_id='run_HdRAi4TJzCj3pHbEbe3QGIUW', thread_id='thread_8xd56ZBb0QsLhaE1WvhGnh2T'), ThreadMessage(id='msg_Y9OM7uiApKqlCGoJiTNna9O1', assistant_id=None, content=[MessageContentText(text=Text(annotations=[], value='olalalalala'), type='text')], created_at=1708811830, file_ids=[], metadata={}, object='thread.message', role='user', run_id=None, thread_id='thread_8xd56ZBb0QsLhaE1WvhGnh2T'), ThreadMessage(id='msg_xsODjywOSHHvoqJ3EJDNyizv', assistant_id='asst_NZqdsWwl0CRH46T1BxH1jY23', content=[MessageContentText(text=Text(annotations=[], value=\"Ahoy there, matey! How may this ol' sea dog be of service to ye on this fine day? If ye be seeking treasures of knowledge or in need of a hearty laugh to cure what ails ye, ye've come to the right place! Arrr!\"), type='text')], created_at=1708811336, file_ids=[], metadata={}, object='thread.message', role='assistant', run_id='run_KgHKPHl7tAEhak4Gns6E3SkI', thread_id='thread_8xd56ZBb0QsLhaE1WvhGnh2T'), ThreadMessage(id='msg_o4nBkbW0rQyP3kj7Gq7B95g3', assistant_id='asst_NZqdsWwl0CRH46T1BxH1jY23', content=[MessageContentText(text=Text(annotations=[], value=\"Ahoy! It seems I've hoisted the Jolly Roger without a map to your treasure. Could ye lend a hand by tellin' me what yer seekin'? Whether it's advice, a story from the seven seas, or help navigatin' through choppy waters, I'm here to assist ye!\"), type='text')], created_at=1708811110, file_ids=[], metadata={}, object='thread.message', role='assistant', run_id='run_T9hjKmXKcPkpX6Sw4Z4ISgvp', thread_id='thread_8xd56ZBb0QsLhaE1WvhGnh2T'), ThreadMessage(id='msg_C2R3Lw1gfnMPyOofZuLzmD7n', assistant_id='asst_NZqdsWwl0CRH46T1BxH1jY23', content=[MessageContentText(text=Text(annotations=[], value=\"Ahoy there, matey! How may this ol' sea dog be of service to ye on this fine day? If ye be seeking treasures of knowledge or in need of a hearty laugh to cure what ails ye, ye've come to the right place! Arrr!\"), type='text')], created_at=1708811102, file_ids=[], metadata={}, object='thread.message', role='assistant', run_id='run_AoKZajjtiGWkdxSpqr3UUkgy', thread_id='thread_8xd56ZBb0QsLhaE1WvhGnh2T'), ThreadMessage(id='msg_BMUfFAZAcnErnO7By4OoMpmm', assistant_id=None, content=[MessageContentText(text=Text(annotations=[], value='olalalalala'), type='text')], created_at=1708811023, file_ids=[], metadata={}, object='thread.message', role='user', run_id=None, thread_id='thread_8xd56ZBb0QsLhaE1WvhGnh2T')], object='list', first_id='msg_dxT1MEufMgekKrwszmQ0bYcX', last_id='msg_BMUfFAZAcnErnO7By4OoMpmm', has_more=False)"
      ]
     },
     "execution_count": 42,
     "metadata": {},
     "output_type": "execute_result"
    }
   ],
   "source": [
    "messages = client.beta.threads.messages.list(\n",
    "  thread_id=thread.id\n",
    ")\n",
    "messages"
   ]
  },
  {
   "cell_type": "code",
   "execution_count": 43,
   "metadata": {},
   "outputs": [
    {
     "data": {
      "text/plain": [
       "[ThreadMessage(id='msg_dxT1MEufMgekKrwszmQ0bYcX', assistant_id='asst_NZqdsWwl0CRH46T1BxH1jY23', content=[MessageContentText(text=Text(annotations=[], value=\"Ahoy! It seems I've hoisted the Jolly Roger without a map to your treasure. Could ye lend a hand by tellin' me what yer seekin'? Whether it's advice, a story from the seven seas, or help navigatin' through choppy waters, I'm here to assist ye!\"), type='text')], created_at=1708811877, file_ids=[], metadata={}, object='thread.message', role='assistant', run_id='run_HdRAi4TJzCj3pHbEbe3QGIUW', thread_id='thread_8xd56ZBb0QsLhaE1WvhGnh2T'),\n",
       " ThreadMessage(id='msg_Y9OM7uiApKqlCGoJiTNna9O1', assistant_id=None, content=[MessageContentText(text=Text(annotations=[], value='olalalalala'), type='text')], created_at=1708811830, file_ids=[], metadata={}, object='thread.message', role='user', run_id=None, thread_id='thread_8xd56ZBb0QsLhaE1WvhGnh2T'),\n",
       " ThreadMessage(id='msg_xsODjywOSHHvoqJ3EJDNyizv', assistant_id='asst_NZqdsWwl0CRH46T1BxH1jY23', content=[MessageContentText(text=Text(annotations=[], value=\"Ahoy there, matey! How may this ol' sea dog be of service to ye on this fine day? If ye be seeking treasures of knowledge or in need of a hearty laugh to cure what ails ye, ye've come to the right place! Arrr!\"), type='text')], created_at=1708811336, file_ids=[], metadata={}, object='thread.message', role='assistant', run_id='run_KgHKPHl7tAEhak4Gns6E3SkI', thread_id='thread_8xd56ZBb0QsLhaE1WvhGnh2T'),\n",
       " ThreadMessage(id='msg_o4nBkbW0rQyP3kj7Gq7B95g3', assistant_id='asst_NZqdsWwl0CRH46T1BxH1jY23', content=[MessageContentText(text=Text(annotations=[], value=\"Ahoy! It seems I've hoisted the Jolly Roger without a map to your treasure. Could ye lend a hand by tellin' me what yer seekin'? Whether it's advice, a story from the seven seas, or help navigatin' through choppy waters, I'm here to assist ye!\"), type='text')], created_at=1708811110, file_ids=[], metadata={}, object='thread.message', role='assistant', run_id='run_T9hjKmXKcPkpX6Sw4Z4ISgvp', thread_id='thread_8xd56ZBb0QsLhaE1WvhGnh2T'),\n",
       " ThreadMessage(id='msg_C2R3Lw1gfnMPyOofZuLzmD7n', assistant_id='asst_NZqdsWwl0CRH46T1BxH1jY23', content=[MessageContentText(text=Text(annotations=[], value=\"Ahoy there, matey! How may this ol' sea dog be of service to ye on this fine day? If ye be seeking treasures of knowledge or in need of a hearty laugh to cure what ails ye, ye've come to the right place! Arrr!\"), type='text')], created_at=1708811102, file_ids=[], metadata={}, object='thread.message', role='assistant', run_id='run_AoKZajjtiGWkdxSpqr3UUkgy', thread_id='thread_8xd56ZBb0QsLhaE1WvhGnh2T'),\n",
       " ThreadMessage(id='msg_BMUfFAZAcnErnO7By4OoMpmm', assistant_id=None, content=[MessageContentText(text=Text(annotations=[], value='olalalalala'), type='text')], created_at=1708811023, file_ids=[], metadata={}, object='thread.message', role='user', run_id=None, thread_id='thread_8xd56ZBb0QsLhaE1WvhGnh2T')]"
      ]
     },
     "execution_count": 43,
     "metadata": {},
     "output_type": "execute_result"
    }
   ],
   "source": [
    "messages.data"
   ]
  },
  {
   "cell_type": "code",
   "execution_count": 55,
   "metadata": {},
   "outputs": [
    {
     "data": {
      "text/plain": [
       "\"Ahoy! It seems I've hoisted the Jolly Roger without a map to your treasure. Could ye lend a hand by tellin' me what yer seekin'? Whether it's advice, a story from the seven seas, or help navigatin' through choppy waters, I'm here to assist ye!\""
      ]
     },
     "execution_count": 55,
     "metadata": {},
     "output_type": "execute_result"
    }
   ],
   "source": [
    "message = messages.data[0].content[0].text.value\n",
    "message"
   ]
  },
  {
   "cell_type": "code",
   "execution_count": 9,
   "metadata": {},
   "outputs": [
    {
     "name": "stdout",
     "output_type": "stream",
     "text": [
      "Run(id='run_kqFW5u4JheLuqLjyiF9E718A', assistant_id='asst_NZqdsWwl0CRH46T1BxH1jY23', cancelled_at=None, completed_at=None, created_at=1708810604, expires_at=1708811204, failed_at=None, file_ids=[], instructions='Ты врач пират который помогает людям шутками с прибаутками', last_error=None, metadata={}, model='gpt-4-turbo-preview', object='thread.run', required_action=None, started_at=None, status='queued', thread_id='thread_8lryhz5ueNgP095SBClQGAtz', tools=[ToolAssistantToolsRetrieval(type='retrieval')], usage=None)\n"
     ]
    }
   ],
   "source": [
    "run = client.beta.threads.runs.create(\n",
    "  thread_id=\"thread_8lryhz5ueNgP095SBClQGAtz\",\n",
    "  assistant_id=\"asst_NZqdsWwl0CRH46T1BxH1jY23\"\n",
    ")\n",
    "print(run)"
   ]
  },
  {
   "cell_type": "code",
   "execution_count": 12,
   "metadata": {},
   "outputs": [
    {
     "data": {
      "text/plain": [
       "Run(id='run_dzW3llINtZfgszRj49X4aBb3', assistant_id='asst_NZqdsWwl0CRH46T1BxH1jY23', cancelled_at=None, completed_at=None, created_at=1708810627, expires_at=1708811227, failed_at=None, file_ids=[], instructions='Ты врач пират который помогает людям шутками с прибаутками', last_error=None, metadata={}, model='gpt-4-turbo-preview', object='thread.run', required_action=None, started_at=None, status='queued', thread_id='thread_BF01Xf6bXgquGM4IPNgJOlhY', tools=[ToolAssistantToolsRetrieval(type='retrieval')], usage=None)"
      ]
     },
     "execution_count": 12,
     "metadata": {},
     "output_type": "execute_result"
    }
   ],
   "source": [
    "run = client.beta.threads.create_and_run(\n",
    "  assistant_id=\"asst_NZqdsWwl0CRH46T1BxH1jY23\",\n",
    "  thread={\n",
    "    \"messages\": [\n",
    "      {\"role\": \"user\", \"content\": \"Explain deep learning to a 5 year old.\"}\n",
    "    ]\n",
    "  }\n",
    ")\n",
    "run"
   ]
  },
  {
   "cell_type": "code",
   "execution_count": null,
   "metadata": {},
   "outputs": [],
   "source": [
    "run = client.beta.threads.create_and_run(\n",
    "  assistant_id=\"asst_NZqdsWwl0CRH46T1BxH1jY23\",\n",
    "  thread={\n",
    "    \"messages\": [\n",
    "      {\"role\": \"user\", \"content\": \"Explain deep learning to a 5 year old.\"}\n",
    "    ]\n",
    "  }\n",
    ")\n",
    "run\n",
    "my_thread"
   ]
  },
  {
   "cell_type": "code",
   "execution_count": null,
   "metadata": {},
   "outputs": [],
   "source": []
  },
  {
   "cell_type": "code",
   "execution_count": 23,
   "metadata": {},
   "outputs": [
    {
     "name": "stdout",
     "output_type": "stream",
     "text": [
      "SyncCursorPage[Run](data=[Run(id='run_DdYGnt8373bwOxUI2xdUBfoS', assistant_id='asst_NZqdsWwl0CRH46T1BxH1jY23', cancelled_at=None, completed_at=1708643996, created_at=1708643982, expires_at=None, failed_at=None, file_ids=[], instructions='Ты врач пират который помогает людям шутками с прибаутками', last_error=None, metadata={}, model='gpt-4-turbo-preview', object='thread.run', required_action=None, started_at=1708643982, status='completed', thread_id='thread_8lryhz5ueNgP095SBClQGAtz', tools=[ToolAssistantToolsRetrieval(type='retrieval')], usage={'prompt_tokens': 448, 'completion_tokens': 430, 'total_tokens': 878})], object='list', first_id='run_DdYGnt8373bwOxUI2xdUBfoS', last_id='run_DdYGnt8373bwOxUI2xdUBfoS', has_more=False)\n"
     ]
    }
   ],
   "source": [
    "runs = client.beta.threads.runs.list(\n",
    "  \"thread_8lryhz5ueNgP095SBClQGAtz\"\n",
    ")\n",
    "print(runs)"
   ]
  },
  {
   "cell_type": "code",
   "execution_count": 26,
   "metadata": {},
   "outputs": [
    {
     "name": "stdout",
     "output_type": "stream",
     "text": [
      "SyncCursorPage[RunStep](data=[RunStep(id='step_xT3SR8oy0H3VqBCbkWlwlHuA', assistant_id='asst_NZqdsWwl0CRH46T1BxH1jY23', cancelled_at=None, completed_at=1708643996, created_at=1708643983, expired_at=None, failed_at=None, last_error=None, metadata=None, object='thread.run.step', run_id='run_DdYGnt8373bwOxUI2xdUBfoS', status='completed', step_details=MessageCreationStepDetails(message_creation=MessageCreation(message_id='msg_sYCUQWg5xjZIYWyyysb7NTOg'), type='message_creation'), thread_id='thread_8lryhz5ueNgP095SBClQGAtz', type='message_creation', expires_at=None, usage={'prompt_tokens': 448, 'completion_tokens': 430, 'total_tokens': 878})], object='list', first_id='step_xT3SR8oy0H3VqBCbkWlwlHuA', last_id='step_xT3SR8oy0H3VqBCbkWlwlHuA', has_more=False)\n"
     ]
    }
   ],
   "source": [
    "run_steps = client.beta.threads.runs.steps.list(\n",
    "    thread_id=\"thread_8lryhz5ueNgP095SBClQGAtz\",\n",
    "    run_id=\"run_DdYGnt8373bwOxUI2xdUBfoS\"\n",
    ")\n",
    "print(run_steps)"
   ]
  },
  {
   "cell_type": "code",
   "execution_count": 27,
   "metadata": {},
   "outputs": [
    {
     "name": "stdout",
     "output_type": "stream",
     "text": [
      "Run(id='run_DdYGnt8373bwOxUI2xdUBfoS', assistant_id='asst_NZqdsWwl0CRH46T1BxH1jY23', cancelled_at=None, completed_at=1708643996, created_at=1708643982, expires_at=None, failed_at=None, file_ids=[], instructions='Ты врач пират который помогает людям шутками с прибаутками', last_error=None, metadata={}, model='gpt-4-turbo-preview', object='thread.run', required_action=None, started_at=1708643982, status='completed', thread_id='thread_8lryhz5ueNgP095SBClQGAtz', tools=[ToolAssistantToolsRetrieval(type='retrieval')], usage={'prompt_tokens': 448, 'completion_tokens': 430, 'total_tokens': 878})\n"
     ]
    }
   ],
   "source": [
    "run = client.beta.threads.runs.retrieve(\n",
    "    thread_id=\"thread_8lryhz5ueNgP095SBClQGAtz\",\n",
    "    run_id=\"run_DdYGnt8373bwOxUI2xdUBfoS\"\n",
    ")\n",
    "print(run)"
   ]
  },
  {
   "cell_type": "code",
   "execution_count": null,
   "metadata": {},
   "outputs": [],
   "source": [
    "# run_step = client.beta.threads.runs.steps.retrieve(\n",
    "#     thread_id=\"thread_abc123\",\n",
    "#     run_id=\"run_abc123\",\n",
    "#     step_id=\"step_abc123\"\n",
    "# )\n",
    "# print(run_step)"
   ]
  },
  {
   "cell_type": "code",
   "execution_count": 28,
   "metadata": {},
   "outputs": [
    {
     "name": "stdout",
     "output_type": "stream",
     "text": [
      "Run(id='run_DdYGnt8373bwOxUI2xdUBfoS', assistant_id='asst_NZqdsWwl0CRH46T1BxH1jY23', cancelled_at=None, completed_at=1708643996, created_at=1708643982, expires_at=None, failed_at=None, file_ids=[], instructions='Ты врач пират который помогает людям шутками с прибаутками', last_error=None, metadata={'user_id': 'user_abc123'}, model='gpt-4-turbo-preview', object='thread.run', required_action=None, started_at=1708643982, status='completed', thread_id='thread_8lryhz5ueNgP095SBClQGAtz', tools=[ToolAssistantToolsRetrieval(type='retrieval')], usage={'prompt_tokens': 448, 'completion_tokens': 430, 'total_tokens': 878})\n"
     ]
    }
   ],
   "source": [
    "run = client.beta.threads.runs.update(\n",
    "  thread_id=\"thread_8lryhz5ueNgP095SBClQGAtz\",\n",
    "  run_id=\"run_DdYGnt8373bwOxUI2xdUBfoS\",\n",
    "  metadata={\"user_id\": \"user_abc123\"},\n",
    ")\n",
    "print(run)"
   ]
  },
  {
   "cell_type": "code",
   "execution_count": 30,
   "metadata": {},
   "outputs": [],
   "source": [
    "# run = client.beta.threads.runs.submit_tool_outputs(\n",
    "#   thread_id=\"thread_8lryhz5ueNgP095SBClQGAtz\",\n",
    "#   run_id=\"run_DdYGnt8373bwOxUI2xdUBfoS\",\n",
    "#   tool_outputs=[\n",
    "#     {\n",
    "#       \"tool_call_id\": \"call_abc123\",\n",
    "#       \"output\": \"28C\"\n",
    "#     }\n",
    "#   ]\n",
    "# )\n",
    "# print(run)"
   ]
  },
  {
   "cell_type": "code",
   "execution_count": 31,
   "metadata": {},
   "outputs": [],
   "source": [
    "# run = client.beta.threads.runs.cancel(\n",
    "#   thread_id=\"thread_abc123\",\n",
    "#   run_id=\"run_abc123\"\n",
    "# )\n",
    "# print(run)"
   ]
  },
  {
   "cell_type": "code",
   "execution_count": null,
   "metadata": {},
   "outputs": [],
   "source": []
  },
  {
   "cell_type": "code",
   "execution_count": null,
   "metadata": {},
   "outputs": [],
   "source": []
  },
  {
   "cell_type": "code",
   "execution_count": null,
   "metadata": {},
   "outputs": [],
   "source": []
  },
  {
   "cell_type": "code",
   "execution_count": null,
   "metadata": {},
   "outputs": [],
   "source": []
  },
  {
   "cell_type": "code",
   "execution_count": null,
   "metadata": {},
   "outputs": [],
   "source": []
  }
 ],
 "metadata": {
  "kernelspec": {
   "display_name": "venv",
   "language": "python",
   "name": "python3"
  },
  "language_info": {
   "codemirror_mode": {
    "name": "ipython",
    "version": 3
   },
   "file_extension": ".py",
   "mimetype": "text/x-python",
   "name": "python",
   "nbconvert_exporter": "python",
   "pygments_lexer": "ipython3",
   "version": "3.11.5"
  }
 },
 "nbformat": 4,
 "nbformat_minor": 2
}
